{
 "cells": [
  {
   "cell_type": "code",
   "execution_count": 56,
   "metadata": {},
   "outputs": [],
   "source": [
    "import re\n",
    "import pandas as pd\n",
    "import numpy as np"
   ]
  },
  {
   "cell_type": "code",
   "execution_count": 11,
   "metadata": {},
   "outputs": [],
   "source": [
    "text_file = open(\"input_day3.txt\", \"r\")\n",
    "lines = text_file.read().split('\\n')\n",
    "ids = []\n",
    "left_edge = []\n",
    "top_edge = []\n",
    "width = []\n",
    "height = []"
   ]
  },
  {
   "cell_type": "code",
   "execution_count": 12,
   "metadata": {},
   "outputs": [],
   "source": [
    "for i in lines:\n",
    "    a = re.split(' ', i)\n",
    "    ids.append(a[0][1:])\n",
    "    left_edge.append(a[2][0:].split(':')[0].split(',')[0])\n",
    "    top_edge.append(a[2][0:].split(':')[0].split(',')[1])\n",
    "    width.append(a[3][0:].split('x')[0])\n",
    "    height.append(a[3][0:].split('x')[1])"
   ]
  },
  {
   "cell_type": "code",
   "execution_count": 13,
   "metadata": {},
   "outputs": [],
   "source": [
    "data = {'id':ids, 'leftedge':left_edge, 'topedge': top_edge, 'width': width, 'height': height}\n",
    "   \n",
    "df = pd.DataFrame(data) "
   ]
  },
  {
   "cell_type": "code",
   "execution_count": 14,
   "metadata": {},
   "outputs": [
    {
     "name": "stdout",
     "output_type": "stream",
     "text": [
      "374\n",
      "1\n"
     ]
    }
   ],
   "source": [
    "count = 0\n",
    "for i in range(1246):\n",
    "    if df['leftedge'][i] == df['topedge'][i+1]:\n",
    "        count+=1\n",
    "        print(df['leftedge'][i])\n",
    "        \n",
    "print(count)"
   ]
  },
  {
   "cell_type": "code",
   "execution_count": 15,
   "metadata": {},
   "outputs": [],
   "source": [
    "df['id'] = df['id'].astype(int)\n",
    "df['leftedge'] = df['leftedge'].astype(int)\n",
    "df['topedge'] = df['topedge'].astype(int)\n",
    "df['width'] = df['width'].astype(int)\n",
    "df['height'] = df['height'].astype(int)"
   ]
  },
  {
   "cell_type": "code",
   "execution_count": 31,
   "metadata": {},
   "outputs": [
    {
     "data": {
      "text/html": [
       "<div>\n",
       "<style scoped>\n",
       "    .dataframe tbody tr th:only-of-type {\n",
       "        vertical-align: middle;\n",
       "    }\n",
       "\n",
       "    .dataframe tbody tr th {\n",
       "        vertical-align: top;\n",
       "    }\n",
       "\n",
       "    .dataframe thead th {\n",
       "        text-align: right;\n",
       "    }\n",
       "</style>\n",
       "<table border=\"1\" class=\"dataframe\">\n",
       "  <thead>\n",
       "    <tr style=\"text-align: right;\">\n",
       "      <th></th>\n",
       "      <th>id</th>\n",
       "      <th>leftedge</th>\n",
       "      <th>topedge</th>\n",
       "      <th>width</th>\n",
       "      <th>height</th>\n",
       "    </tr>\n",
       "  </thead>\n",
       "  <tbody>\n",
       "    <tr>\n",
       "      <th>923</th>\n",
       "      <td>924</td>\n",
       "      <td>348</td>\n",
       "      <td>988</td>\n",
       "      <td>20</td>\n",
       "      <td>11</td>\n",
       "    </tr>\n",
       "  </tbody>\n",
       "</table>\n",
       "</div>"
      ],
      "text/plain": [
       "      id  leftedge  topedge  width  height\n",
       "923  924       348      988     20      11"
      ]
     },
     "execution_count": 31,
     "metadata": {},
     "output_type": "execute_result"
    }
   ],
   "source": [
    "df[(df.topedge == 988)]"
   ]
  },
  {
   "cell_type": "code",
   "execution_count": 27,
   "metadata": {},
   "outputs": [
    {
     "data": {
      "text/plain": [
       "988"
      ]
     },
     "execution_count": 27,
     "metadata": {},
     "output_type": "execute_result"
    }
   ],
   "source": [
    "df['topedge'].max()"
   ]
  },
  {
   "cell_type": "code",
   "execution_count": 51,
   "metadata": {},
   "outputs": [],
   "source": [
    "df['sumwidth'] = df['leftedge'] + df['width']\n",
    "df['sumheight'] = df['topedge'] + df['height']"
   ]
  },
  {
   "cell_type": "code",
   "execution_count": 54,
   "metadata": {},
   "outputs": [
    {
     "data": {
      "text/html": [
       "<div>\n",
       "<style scoped>\n",
       "    .dataframe tbody tr th:only-of-type {\n",
       "        vertical-align: middle;\n",
       "    }\n",
       "\n",
       "    .dataframe tbody tr th {\n",
       "        vertical-align: top;\n",
       "    }\n",
       "\n",
       "    .dataframe thead th {\n",
       "        text-align: right;\n",
       "    }\n",
       "</style>\n",
       "<table border=\"1\" class=\"dataframe\">\n",
       "  <thead>\n",
       "    <tr style=\"text-align: right;\">\n",
       "      <th></th>\n",
       "      <th>id</th>\n",
       "      <th>leftedge</th>\n",
       "      <th>topedge</th>\n",
       "      <th>width</th>\n",
       "      <th>height</th>\n",
       "      <th>sumwidth</th>\n",
       "      <th>sumheight</th>\n",
       "    </tr>\n",
       "  </thead>\n",
       "  <tbody>\n",
       "    <tr>\n",
       "      <th>0</th>\n",
       "      <td>1</td>\n",
       "      <td>906</td>\n",
       "      <td>735</td>\n",
       "      <td>28</td>\n",
       "      <td>17</td>\n",
       "      <td>934</td>\n",
       "      <td>752</td>\n",
       "    </tr>\n",
       "    <tr>\n",
       "      <th>1</th>\n",
       "      <td>2</td>\n",
       "      <td>890</td>\n",
       "      <td>926</td>\n",
       "      <td>12</td>\n",
       "      <td>29</td>\n",
       "      <td>902</td>\n",
       "      <td>955</td>\n",
       "    </tr>\n",
       "    <tr>\n",
       "      <th>2</th>\n",
       "      <td>3</td>\n",
       "      <td>806</td>\n",
       "      <td>573</td>\n",
       "      <td>20</td>\n",
       "      <td>19</td>\n",
       "      <td>826</td>\n",
       "      <td>592</td>\n",
       "    </tr>\n",
       "    <tr>\n",
       "      <th>3</th>\n",
       "      <td>4</td>\n",
       "      <td>73</td>\n",
       "      <td>196</td>\n",
       "      <td>16</td>\n",
       "      <td>24</td>\n",
       "      <td>89</td>\n",
       "      <td>220</td>\n",
       "    </tr>\n",
       "    <tr>\n",
       "      <th>4</th>\n",
       "      <td>5</td>\n",
       "      <td>466</td>\n",
       "      <td>847</td>\n",
       "      <td>26</td>\n",
       "      <td>27</td>\n",
       "      <td>492</td>\n",
       "      <td>874</td>\n",
       "    </tr>\n",
       "    <tr>\n",
       "      <th>5</th>\n",
       "      <td>6</td>\n",
       "      <td>157</td>\n",
       "      <td>631</td>\n",
       "      <td>22</td>\n",
       "      <td>23</td>\n",
       "      <td>179</td>\n",
       "      <td>654</td>\n",
       "    </tr>\n",
       "    <tr>\n",
       "      <th>6</th>\n",
       "      <td>7</td>\n",
       "      <td>140</td>\n",
       "      <td>175</td>\n",
       "      <td>18</td>\n",
       "      <td>11</td>\n",
       "      <td>158</td>\n",
       "      <td>186</td>\n",
       "    </tr>\n",
       "    <tr>\n",
       "      <th>7</th>\n",
       "      <td>8</td>\n",
       "      <td>847</td>\n",
       "      <td>845</td>\n",
       "      <td>13</td>\n",
       "      <td>16</td>\n",
       "      <td>860</td>\n",
       "      <td>861</td>\n",
       "    </tr>\n",
       "    <tr>\n",
       "      <th>8</th>\n",
       "      <td>9</td>\n",
       "      <td>337</td>\n",
       "      <td>935</td>\n",
       "      <td>25</td>\n",
       "      <td>24</td>\n",
       "      <td>362</td>\n",
       "      <td>959</td>\n",
       "    </tr>\n",
       "    <tr>\n",
       "      <th>9</th>\n",
       "      <td>10</td>\n",
       "      <td>857</td>\n",
       "      <td>475</td>\n",
       "      <td>11</td>\n",
       "      <td>28</td>\n",
       "      <td>868</td>\n",
       "      <td>503</td>\n",
       "    </tr>\n",
       "  </tbody>\n",
       "</table>\n",
       "</div>"
      ],
      "text/plain": [
       "   id  leftedge  topedge  width  height  sumwidth  sumheight\n",
       "0   1       906      735     28      17       934        752\n",
       "1   2       890      926     12      29       902        955\n",
       "2   3       806      573     20      19       826        592\n",
       "3   4        73      196     16      24        89        220\n",
       "4   5       466      847     26      27       492        874\n",
       "5   6       157      631     22      23       179        654\n",
       "6   7       140      175     18      11       158        186\n",
       "7   8       847      845     13      16       860        861\n",
       "8   9       337      935     25      24       362        959\n",
       "9  10       857      475     11      28       868        503"
      ]
     },
     "execution_count": 54,
     "metadata": {},
     "output_type": "execute_result"
    }
   ],
   "source": [
    "test = df[:10]\n",
    "test"
   ]
  },
  {
   "cell_type": "code",
   "execution_count": 76,
   "metadata": {},
   "outputs": [],
   "source": [
    "A = np.zeros((1000, 1000))\n",
    "\n",
    "for index, n in df.iterrows():\n",
    "    x = df.leftedge[index]\n",
    "    y = df.topedge[index]\n",
    "    x1 = df.sumwidth[index]\n",
    "    y1 = df.sumheight[index]\n",
    "    \n",
    "    A[x:x1][y:y1] = 1\n",
    "    for \n",
    "    "
   ]
  },
  {
   "cell_type": "code",
   "execution_count": 77,
   "metadata": {},
   "outputs": [
    {
     "data": {
      "text/plain": [
       "array([[0., 0., 0., ..., 0., 0., 0.],\n",
       "       [0., 0., 0., ..., 0., 0., 0.],\n",
       "       [0., 0., 0., ..., 0., 0., 0.],\n",
       "       ...,\n",
       "       [0., 0., 0., ..., 0., 0., 0.],\n",
       "       [0., 0., 0., ..., 0., 0., 0.],\n",
       "       [0., 0., 0., ..., 0., 0., 0.]])"
      ]
     },
     "execution_count": 77,
     "metadata": {},
     "output_type": "execute_result"
    }
   ],
   "source": [
    "A"
   ]
  },
  {
   "cell_type": "code",
   "execution_count": null,
   "metadata": {},
   "outputs": [],
   "source": []
  }
 ],
 "metadata": {
  "kernelspec": {
   "display_name": "Python 3",
   "language": "python",
   "name": "python3"
  },
  "language_info": {
   "codemirror_mode": {
    "name": "ipython",
    "version": 3
   },
   "file_extension": ".py",
   "mimetype": "text/x-python",
   "name": "python",
   "nbconvert_exporter": "python",
   "pygments_lexer": "ipython3",
   "version": "3.7.3"
  }
 },
 "nbformat": 4,
 "nbformat_minor": 2
}
