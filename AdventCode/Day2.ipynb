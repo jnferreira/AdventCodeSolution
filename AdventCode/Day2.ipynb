{
 "cells": [
  {
   "cell_type": "code",
   "execution_count": 108,
   "metadata": {},
   "outputs": [],
   "source": [
    "def check_smallquantity(arr_test):\n",
    "    arr = arr_test\n",
    "    dict = {}\n",
    "\n",
    "    for index, charac in enumerate(arr):\n",
    "        dict[charac] = 0\n",
    "        \n",
    "    for index, charac in enumerate(arr):\n",
    "        for di in dict:\n",
    "            if di == charac:\n",
    "                dict[di] += 1\n",
    "   \n",
    "    dict = {key:val for key, val in dict.items() if val != 1}\n",
    "\n",
    "    return(dict)"
   ]
  },
  {
   "cell_type": "code",
   "execution_count": 109,
   "metadata": {},
   "outputs": [],
   "source": [
    "def check_mediumquantity(lines):\n",
    "    dict_array = []\n",
    "\n",
    "    for line in lines: \n",
    "        dict_array.append(check_smallquantity(line))\n",
    "    \n",
    "    return(dict_array)"
   ]
  },
  {
   "cell_type": "code",
   "execution_count": 110,
   "metadata": {},
   "outputs": [],
   "source": [
    "def check_dictmediumqt(da):\n",
    "    dict_cs = {'2': 0, '3': 0}\n",
    "    \n",
    "    for d in da:  \n",
    "        flag = True\n",
    "        flag2 = True       \n",
    "        for dx in d.values():\n",
    "            \n",
    "\n",
    "            if dx == 2:\n",
    "\n",
    "                if flag:\n",
    "                    dict_cs['2'] += 1\n",
    "                    flag = False\n",
    "                else:\n",
    "                    dict_cs['2'] += 0\n",
    "\n",
    "            elif dx == 3:\n",
    "                if flag2:\n",
    "                    dict_cs['3'] += 1\n",
    "                    flag2 = False\n",
    "                else:\n",
    "                    dict_cs['3'] += 0\n",
    "\n",
    "    return(dict_cs)"
   ]
  },
  {
   "cell_type": "markdown",
   "metadata": {},
   "source": [
    "* Part 1"
   ]
  },
  {
   "cell_type": "code",
   "execution_count": 111,
   "metadata": {},
   "outputs": [
    {
     "name": "stdout",
     "output_type": "stream",
     "text": [
      "{'2': 246, '3': 32}\n"
     ]
    }
   ],
   "source": [
    "text_file = open(\"input_day2.txt\", \"r\")\n",
    "lines = text_file.read().split('\\n')\n",
    "\n",
    "test1 = check_mediumquantity(lines)\n",
    "test1_1 = check_dictmediumqt(test1)\n",
    "print(test1_1)"
   ]
  },
  {
   "cell_type": "markdown",
   "metadata": {},
   "source": [
    "* Part 2"
   ]
  },
  {
   "cell_type": "code",
   "execution_count": 112,
   "metadata": {},
   "outputs": [
    {
     "name": "stdout",
     "output_type": "stream",
     "text": [
      "tjxmoewpdkyaihvrndfluwbzc\n"
     ]
    }
   ],
   "source": [
    "d = set()\n",
    "for s in lines:\n",
    "    for i in range(len(s)):\n",
    "        new_str = ''.join(s[:i] + '_' + s[i+1:])\n",
    "        if new_str in d:\n",
    "            print(''.join(n for n in new_str if n != '_'))\n",
    "        d.add(new_str)"
   ]
  }
 ],
 "metadata": {
  "kernelspec": {
   "display_name": "Python 3",
   "language": "python",
   "name": "python3"
  },
  "language_info": {
   "codemirror_mode": {
    "name": "ipython",
    "version": 3
   },
   "file_extension": ".py",
   "mimetype": "text/x-python",
   "name": "python",
   "nbconvert_exporter": "python",
   "pygments_lexer": "ipython3",
   "version": "3.6.8"
  }
 },
 "nbformat": 4,
 "nbformat_minor": 2
}
