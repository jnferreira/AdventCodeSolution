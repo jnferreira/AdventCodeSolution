{
 "cells": [
  {
   "cell_type": "code",
   "execution_count": 4,
   "metadata": {},
   "outputs": [],
   "source": [
    "text_file = open(\"input_day1.txt\", \"r\")\n",
    "lines = text_file.read().split('\\n')\n",
    "\n",
    "lines = [int(i) for i in lines]"
   ]
  },
  {
   "cell_type": "code",
   "execution_count": 5,
   "metadata": {},
   "outputs": [
    {
     "data": {
      "text/plain": "245"
     },
     "execution_count": 5,
     "metadata": {},
     "output_type": "execute_result"
    }
   ],
   "source": [
    "size = len(lines)\n",
    "freq = 0\n",
    "reached = {}\n",
    "found = False\n",
    "i = 0\n",
    "\n",
    "while not found:\n",
    "    freq += lines[i]\n",
    "    if freq in reached:\n",
    "        twice = freq\n",
    "        found = True\n",
    "    reached[freq] = True\n",
    "    i = (i+1) % size\n",
    "\n",
    "twice"
   ]
  }
 ],
 "metadata": {
  "kernelspec": {
   "display_name": "Python 3",
   "language": "python",
   "name": "python3"
  },
  "language_info": {
   "codemirror_mode": {
    "name": "ipython",
    "version": 3
   },
   "file_extension": ".py",
   "mimetype": "text/x-python",
   "name": "python",
   "nbconvert_exporter": "python",
   "pygments_lexer": "ipython3",
   "version": "3.6.8"
  }
 },
 "nbformat": 4,
 "nbformat_minor": 2
}